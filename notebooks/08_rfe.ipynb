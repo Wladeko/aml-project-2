{
 "cells": [
  {
   "cell_type": "code",
   "execution_count": 5,
   "metadata": {},
   "outputs": [],
   "source": [
    "import autorootcwd\n",
    "\n",
    "import numpy as np\n",
    "import pandas as pd\n",
    "import seaborn as sns\n",
    "\n",
    "from sklearn.feature_selection import RFECV, RFE\n",
    "from xgboost import XGBClassifier\n",
    "\n",
    "from src.data import artificial, spam\n",
    "from src.evaluation import evaluate, search_knn, search_rf, search_xgboost"
   ]
  },
  {
   "cell_type": "code",
   "execution_count": 6,
   "metadata": {},
   "outputs": [],
   "source": [
    "X_a, y_a = artificial.prepare_data()\n",
    "X_spam, y_spam = spam.prepare_data()"
   ]
  },
  {
   "cell_type": "code",
   "execution_count": 7,
   "metadata": {},
   "outputs": [],
   "source": [
    "c_s = [i for i in range(4, 51, 3)]\n",
    "\n",
    "scores_knn = []\n",
    "scores_rf = []\n",
    "scoeres_xgb = []\n",
    "params_knn_a = []\n",
    "params_rf_a = []\n",
    "params_xgb_a = []\n",
    "features = []\n",
    "n_features = []"
   ]
  },
  {
   "cell_type": "code",
   "execution_count": null,
   "metadata": {},
   "outputs": [],
   "source": [
    "for c in c_s:\n",
    "    classifier = XGBClassifier(learning_rate=0.01, max_depth=7, n_estimators=300)\n",
    "    rfecv = RFE(estimator=classifier, step=3, n_features_to_select=c, verbose=1)\n",
    "    rfecv.fit(X_a, y_a)\n",
    "\n",
    "    selected_feature_indices = rfecv.get_support(indices=True)\n",
    "    X_selected = X_a[:, selected_feature_indices]\n",
    "    num_features = X_selected.shape[1]\n",
    "    print(f\"{num_features} features selected\")\n",
    "\n",
    "    params_knn, score_knn = search_knn(X_selected, y_a)\n",
    "    params_rf, score_rf = search_rf(X_selected, y_a)\n",
    "    params_xgb, score_xgb = search_xgboost(X_selected, y_a)\n",
    "\n",
    "    scores = evaluate(X_selected, y_a, params_knn=params_knn, params_rf=params_rf, params_xgb=params_xgb, num_folds=10, scoring_coefficient=0.01)\n",
    "\n",
    "    scores_knn.append(scores['KNN'][1])\n",
    "    scores_rf.append(scores['RF'][1])\n",
    "    scoeres_xgb.append(scores['XGB'][1])\n",
    "    params_knn_a.append(params_knn)\n",
    "    params_rf_a.append(params_rf)\n",
    "    params_xgb_a.append(params_xgb)\n",
    "    n_features.append(num_features)\n",
    "    features.append(selected_feature_indices)\n",
    "\n",
    "    print(f\"KNN {scores['KNN'][1]} | RF {scores['RF'][1]} | XGB {scores['XGB'][1]}\")"
   ]
  },
  {
   "cell_type": "code",
   "execution_count": null,
   "metadata": {},
   "outputs": [],
   "source": [
    "df = pd.DataFrame(data=np.array([n_features, scores_knn, scores_rf, scoeres_xgb]).transpose(), columns=[\"features\", \"knn\", \"rf\", \"xgb\"])"
   ]
  },
  {
   "cell_type": "code",
   "execution_count": null,
   "metadata": {},
   "outputs": [],
   "source": []
  }
 ],
 "metadata": {
  "kernelspec": {
   "display_name": "Python 3.10.8 ('venv': venv)",
   "language": "python",
   "name": "python3"
  },
  "language_info": {
   "codemirror_mode": {
    "name": "ipython",
    "version": 3
   },
   "file_extension": ".py",
   "mimetype": "text/x-python",
   "name": "python",
   "nbconvert_exporter": "python",
   "pygments_lexer": "ipython3",
   "version": "3.10.8"
  },
  "orig_nbformat": 4,
  "vscode": {
   "interpreter": {
    "hash": "7a0b0f194240f35d873308aa0a1e23646d21273a1e9c49752d964c2cb6b76a8a"
   }
  }
 },
 "nbformat": 4,
 "nbformat_minor": 2
}
