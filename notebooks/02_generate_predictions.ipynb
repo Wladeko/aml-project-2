{
 "cells": [
  {
   "cell_type": "code",
   "execution_count": 1,
   "metadata": {},
   "outputs": [],
   "source": [
    "import autorootcwd"
   ]
  },
  {
   "attachments": {},
   "cell_type": "markdown",
   "metadata": {},
   "source": [
    "- CODE artificial prediction.txt, posterior probabilities for validation data, for dataset\n",
    "artificial.\n",
    "- CODE artificial features.txt, selected features for dataset artificial.\n",
    "- CODE spam prediction.txt, posterior probabilities for validation data, for dataset\n",
    "spam.\n",
    "- CODE spam features.txt, selected features for dataset spam."
   ]
  },
  {
   "cell_type": "code",
   "execution_count": 2,
   "metadata": {},
   "outputs": [],
   "source": [
    "import numpy as np\n",
    "from pathlib import Path"
   ]
  },
  {
   "cell_type": "code",
   "execution_count": 3,
   "metadata": {},
   "outputs": [],
   "source": [
    "from src.data import artificial, spam\n",
    "from src.evaluation import evaluate, search_knn, search_rf, search_xgboost"
   ]
  },
  {
   "cell_type": "code",
   "execution_count": 4,
   "metadata": {},
   "outputs": [],
   "source": [
    "output_folder = Path(\"results/\")\n",
    "output_folder.mkdir(exist_ok=True)"
   ]
  },
  {
   "attachments": {},
   "cell_type": "markdown",
   "metadata": {},
   "source": [
    "## artificial dataset"
   ]
  },
  {
   "cell_type": "code",
   "execution_count": 5,
   "metadata": {},
   "outputs": [
    {
     "data": {
      "text/plain": [
       "((2000, 500), (2000,))"
      ]
     },
     "execution_count": 5,
     "metadata": {},
     "output_type": "execute_result"
    }
   ],
   "source": [
    "X_train_artificial, y_train_artificial = artificial.prepare_data()\n",
    "X_train_artificial.shape, y_train_artificial.shape"
   ]
  },
  {
   "cell_type": "code",
   "execution_count": 6,
   "metadata": {},
   "outputs": [
    {
     "data": {
      "text/plain": [
       "(600, 500)"
      ]
     },
     "execution_count": 6,
     "metadata": {},
     "output_type": "execute_result"
    }
   ],
   "source": [
    "X_test_artificial = artificial.prepare_data(test=True)\n",
    "X_test_artificial.shape"
   ]
  },
  {
   "cell_type": "code",
   "execution_count": 7,
   "metadata": {},
   "outputs": [],
   "source": [
    "artificial_best_features = (48, 241, 318, 338, 378, 433, 455, 472)\n",
    "best_params_knn = {'n_neighbors': 5, 'p': 2, 'weights': 'distance'}"
   ]
  },
  {
   "cell_type": "code",
   "execution_count": 8,
   "metadata": {},
   "outputs": [],
   "source": [
    "from sklearn.neighbors import KNeighborsClassifier\n",
    "\n",
    "X_train_artificial = X_train_artificial[:, artificial_best_features]\n",
    "X_test_artificial = X_test_artificial[:, artificial_best_features]\n",
    "\n",
    "knn = KNeighborsClassifier(**best_params_knn)\n",
    "knn.fit(X_train_artificial, y_train_artificial)\n",
    "\n",
    "test_preds = knn.predict(X_test_artificial)\n",
    "\n",
    "# save to artificial_prediction.txt\n",
    "np.savetxt(output_folder / \"artificial_prediction.txt\", test_preds, fmt=\"%d\")\n",
    "\n",
    "# save artificial_features.txt\n",
    "np.savetxt(output_folder / \"artificial_features.txt\", artificial_best_features, fmt=\"%d\")"
   ]
  },
  {
   "attachments": {},
   "cell_type": "markdown",
   "metadata": {},
   "source": [
    "## spam dataset"
   ]
  },
  {
   "cell_type": "code",
   "execution_count": 5,
   "metadata": {},
   "outputs": [
    {
     "data": {
      "text/plain": [
       "((4572, 7911), (4572,))"
      ]
     },
     "execution_count": 5,
     "metadata": {},
     "output_type": "execute_result"
    }
   ],
   "source": [
    "X_train_spam, y_train_spam = spam.prepare_data()\n",
    "X_train_spam.shape, y_train_spam.shape"
   ]
  },
  {
   "cell_type": "code",
   "execution_count": 6,
   "metadata": {},
   "outputs": [
    {
     "data": {
      "text/plain": [
       "(1000, 7911)"
      ]
     },
     "execution_count": 6,
     "metadata": {},
     "output_type": "execute_result"
    }
   ],
   "source": [
    "X_test_spam = spam.prepare_data(test=True)\n",
    "X_test_spam.shape"
   ]
  },
  {
   "cell_type": "code",
   "execution_count": 7,
   "metadata": {},
   "outputs": [],
   "source": [
    "spam_best_features = (255, 302, 318, 533, 942, 1130, 1181, 1602, 1632, 1655, 1700, 1769, 1851, 1909,\n",
    " 1932, 1937, 2129, 2428, 3005, 3047, 3082, 3269, 3330, 3431, 3439, 3590, 3605, 3671,\n",
    " 3712, 3821, 3833, 3840, 4113, 4252, 4340, 4500, 4548, 4574, 4635, 4706, 4758, 4857,\n",
    " 4945, 5017, 5034, 5076, 5110, 5357, 5535, 5748, 5845, 5919, 6149, 6171, 6406, 6426,\n",
    " 6641, 6943, 6969, 7014, 7093, 7120, 7256, 7284, 7357, 7360, 7555, 7583, 7664, 7691,\n",
    " 7718, 7747, 7811, 7872, 7877)\n",
    "best_params_rf = {'n_estimators': 200}"
   ]
  },
  {
   "cell_type": "code",
   "execution_count": 8,
   "metadata": {},
   "outputs": [],
   "source": [
    "from sklearn.ensemble import RandomForestClassifier\n",
    "\n",
    "X_train_spam = X_train_spam[:, spam_best_features]\n",
    "X_test_spam = X_test_spam[:, spam_best_features]\n",
    "\n",
    "rf = RandomForestClassifier(**best_params_rf)\n",
    "rf.fit(X_train_spam, y_train_spam)\n",
    "\n",
    "test_preds = rf.predict(X_test_spam)\n",
    "\n",
    "# save to spam_prediction.txt\n",
    "np.savetxt(output_folder / \"spam_prediction.txt\", test_preds, fmt=\"%d\")\n",
    "\n",
    "# save spam_features.txt\n",
    "np.savetxt(output_folder / \"spam_features.txt\", spam_best_features, fmt=\"%d\")\n"
   ]
  },
  {
   "cell_type": "code",
   "execution_count": null,
   "metadata": {},
   "outputs": [],
   "source": []
  }
 ],
 "metadata": {
  "kernelspec": {
   "display_name": "myenv",
   "language": "python",
   "name": "python3"
  },
  "language_info": {
   "codemirror_mode": {
    "name": "ipython",
    "version": 3
   },
   "file_extension": ".py",
   "mimetype": "text/x-python",
   "name": "python",
   "nbconvert_exporter": "python",
   "pygments_lexer": "ipython3",
   "version": "3.9.16"
  },
  "orig_nbformat": 4
 },
 "nbformat": 4,
 "nbformat_minor": 2
}
