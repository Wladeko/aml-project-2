{
 "cells": [
  {
   "cell_type": "code",
   "execution_count": 1,
   "metadata": {},
   "outputs": [],
   "source": [
    "import autorootcwd"
   ]
  },
  {
   "cell_type": "code",
   "execution_count": 2,
   "metadata": {},
   "outputs": [],
   "source": [
    "from src.data import artificial, spam\n",
    "from src.evaluation import evaluate, search_knn, search_rf, search_xgboost"
   ]
  },
  {
   "attachments": {},
   "cell_type": "markdown",
   "metadata": {},
   "source": [
    "# artificial dataset"
   ]
  },
  {
   "cell_type": "code",
   "execution_count": null,
   "metadata": {},
   "outputs": [],
   "source": []
  },
  {
   "cell_type": "code",
   "execution_count": 3,
   "metadata": {},
   "outputs": [
    {
     "data": {
      "text/plain": [
       "((2000, 500), (2000,))"
      ]
     },
     "execution_count": 3,
     "metadata": {},
     "output_type": "execute_result"
    }
   ],
   "source": [
    "X_artificial, y_artificial = artificial.prepare_data()\n",
    "X_artificial.shape, y_artificial.shape"
   ]
  },
  {
   "cell_type": "code",
   "execution_count": 4,
   "metadata": {},
   "outputs": [
    {
     "name": "stdout",
     "output_type": "stream",
     "text": [
      "Fitting 5 folds for each of 28 candidates, totalling 140 fits\n",
      "KNN {'n_neighbors': 15, 'p': 2, 'weights': 'uniform'} 0.7455\n"
     ]
    }
   ],
   "source": [
    "params_knn, score_knn = search_knn(X_artificial, y_artificial)\n",
    "print(\"KNN\", params_knn, score_knn)"
   ]
  },
  {
   "cell_type": "code",
   "execution_count": 5,
   "metadata": {},
   "outputs": [
    {
     "name": "stdout",
     "output_type": "stream",
     "text": [
      "Fitting 5 folds for each of 3 candidates, totalling 15 fits\n",
      "RF {'n_estimators': 300} 0.6910000000000001\n"
     ]
    }
   ],
   "source": [
    "params_rf, score_rf = search_rf(X_artificial, y_artificial)\n",
    "print(\"RF\", params_rf, score_rf)"
   ]
  },
  {
   "cell_type": "code",
   "execution_count": 6,
   "metadata": {},
   "outputs": [
    {
     "name": "stdout",
     "output_type": "stream",
     "text": [
      "Fitting 5 folds for each of 12 candidates, totalling 60 fits\n",
      "XGB {'learning_rate': 0.01, 'max_depth': 7, 'n_estimators': 300} 0.8145\n"
     ]
    }
   ],
   "source": [
    "params_xgb, score_xgb = search_xgboost(X_artificial, y_artificial)\n",
    "print(\"XGB\", params_xgb, score_xgb)"
   ]
  },
  {
   "cell_type": "code",
   "execution_count": 11,
   "metadata": {},
   "outputs": [],
   "source": [
    "# params_knn = {'n_neighbors': 15, 'p': 2, 'weights': 'uniform'}\n",
    "# params_rf = {'n_estimators': 300}\n",
    "# params_xgb = {'learning_rate': 0.01, 'max_depth': 7, 'n_estimators': 300}\n",
    "\n",
    "scores = evaluate(X_artificial, y_artificial, params_knn=params_knn, params_rf=params_rf, params_xgb=params_xgb, num_folds=10, scoring_coefficient=0.2)"
   ]
  },
  {
   "cell_type": "code",
   "execution_count": 12,
   "metadata": {},
   "outputs": [
    {
     "data": {
      "text/plain": [
       "{'KNN': (0.7385, 0.6985),\n",
       " 'RF': (0.6950000000000001, 0.655),\n",
       " 'XGB': (0.8300000000000001, 0.79)}"
      ]
     },
     "execution_count": 12,
     "metadata": {},
     "output_type": "execute_result"
    }
   ],
   "source": [
    "scores"
   ]
  },
  {
   "attachments": {},
   "cell_type": "markdown",
   "metadata": {},
   "source": [
    "# spam dataset"
   ]
  },
  {
   "cell_type": "code",
   "execution_count": 3,
   "metadata": {},
   "outputs": [
    {
     "data": {
      "text/plain": [
       "((4572, 7911), (4572,))"
      ]
     },
     "execution_count": 3,
     "metadata": {},
     "output_type": "execute_result"
    }
   ],
   "source": [
    "X_spam, y_spam = spam.prepare_data()\n",
    "X_spam.shape, y_spam.shape"
   ]
  },
  {
   "cell_type": "code",
   "execution_count": 5,
   "metadata": {},
   "outputs": [
    {
     "name": "stdout",
     "output_type": "stream",
     "text": [
      "Fitting 5 folds for each of 28 candidates, totalling 140 fits\n",
      "KNN {'n_neighbors': 3, 'p': 1, 'weights': 'distance'} 0.7715980274556844\n"
     ]
    }
   ],
   "source": [
    "params_knn, score_knn = search_knn(X_spam, y_spam)\n",
    "print(\"KNN\", params_knn, score_knn)"
   ]
  },
  {
   "cell_type": "code",
   "execution_count": 6,
   "metadata": {},
   "outputs": [
    {
     "name": "stdout",
     "output_type": "stream",
     "text": [
      "Fitting 5 folds for each of 3 candidates, totalling 15 fits\n",
      "RF {'n_estimators': 200} 0.9028258898460818\n"
     ]
    }
   ],
   "source": [
    "params_rf, score_rf = search_rf(X_spam, y_spam)\n",
    "print(\"RF\", params_rf, score_rf)"
   ]
  },
  {
   "cell_type": "code",
   "execution_count": 5,
   "metadata": {},
   "outputs": [],
   "source": [
    "# params_xgb, score_xgb = search_xgboost(X_spam, y_spam)\n",
    "# print(\"XGB\", params_xgb, score_xgb)\n",
    "params_xgb = {}"
   ]
  },
  {
   "cell_type": "code",
   "execution_count": null,
   "metadata": {},
   "outputs": [],
   "source": [
    "scores = evaluate(X_spam, y_spam, params_knn=params_knn, params_rf=params_rf, params_xgb=params_xgb, num_folds=10, scoring_coefficient=0.01)"
   ]
  },
  {
   "cell_type": "code",
   "execution_count": null,
   "metadata": {},
   "outputs": [],
   "source": [
    "scores"
   ]
  }
 ],
 "metadata": {
  "kernelspec": {
   "display_name": "myenv",
   "language": "python",
   "name": "python3"
  },
  "language_info": {
   "codemirror_mode": {
    "name": "ipython",
    "version": 3
   },
   "file_extension": ".py",
   "mimetype": "text/x-python",
   "name": "python",
   "nbconvert_exporter": "python",
   "pygments_lexer": "ipython3",
   "version": "3.9.13"
  },
  "orig_nbformat": 4
 },
 "nbformat": 4,
 "nbformat_minor": 2
}
